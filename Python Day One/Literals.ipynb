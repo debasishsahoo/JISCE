{
 "cells": [
  {
   "cell_type": "markdown",
   "metadata": {
    "id": "WgvrdYoFeW6A"
   },
   "source": [
    "**Literals is raw data given in a Variable or Constant.**"
   ]
  },
  {
   "cell_type": "markdown",
   "metadata": {
    "id": "aS8ETpoXeqVb"
   },
   "source": [
    "## Number Literals\n",
    "\n",
    "Numeric Literals are immutable(unchangeable).\n",
    "\n",
    "Three different type of Numeric Literals are there:\n",
    "**Integer**,**Float**,**Complex**\n",
    "\n",
    "\n"
   ]
  },
  {
   "cell_type": "code",
   "execution_count": null,
   "metadata": {
    "colab": {
     "base_uri": "https://localhost:8080/"
    },
    "id": "f1Rn-UtpeNWI",
    "outputId": "16ac1384-7688-40cb-a20d-0e2e5b20342a"
   },
   "outputs": [
    {
     "name": "stdout",
     "output_type": "stream",
     "text": [
      "10\n",
      "10.0\n",
      "(10+0j)\n"
     ]
    }
   ],
   "source": [
    "a=0b1010  #Binary Literals\n",
    "b=100     #Decimal Literals\n",
    "c=0o310   #Octal Literals\n",
    "d=0x12c   #Hexadecimal Literals\n",
    "e=10      #Int Literals\n",
    "f=10.5    #Float Literals\n",
    "x=3.14j   #Complax Literals\n",
    "\n",
    "# float to int \n",
    "print(int(f))\n",
    "\n",
    "# int to float \n",
    "print(float(e))\n",
    "\n",
    "# int to complex \n",
    "print(complex(e))\n"
   ]
  },
  {
   "cell_type": "markdown",
   "metadata": {
    "id": "CgxRO3AzgxuZ"
   },
   "source": [
    "## String Literals\n",
    "A String literals is a **Sequence of Characters** surrounded by **quots**.\n",
    "we can Use **Single**,**Double**,**Triple** quotes for a **String**,and for **Character literals** only **Single**,**Double** **quots**  are used."
   ]
  },
  {
   "cell_type": "code",
   "execution_count": null,
   "metadata": {
    "colab": {
     "base_uri": "https://localhost:8080/"
    },
    "id": "Wvl1IX1pgxV6",
    "outputId": "337319cd-4af5-49c1-a4f8-469fe4e31852"
   },
   "outputs": [
    {
     "ename": "NameError",
     "evalue": "ignored",
     "output_type": "error",
     "traceback": [
      "\u001b[0;31m---------------------------------------------------------------------------\u001b[0m",
      "\u001b[0;31mNameError\u001b[0m                                 Traceback (most recent call last)",
      "\u001b[0;32m<ipython-input-4-b66fce22c0d7>\u001b[0m in \u001b[0;36m<module>\u001b[0;34m\u001b[0m\n\u001b[1;32m      3\u001b[0m \u001b[0mc\u001b[0m\u001b[0;34m=\u001b[0m\u001b[0;34m'debasish'\u001b[0m\u001b[0;34m;\u001b[0m\u001b[0;34m\u001b[0m\u001b[0;34m\u001b[0m\u001b[0m\n\u001b[1;32m      4\u001b[0m \u001b[0md\u001b[0m\u001b[0;34m=\u001b[0m\u001b[0;34m\"debasish\"\u001b[0m\u001b[0;34m;\u001b[0m\u001b[0;34m\u001b[0m\u001b[0;34m\u001b[0m\u001b[0m\n\u001b[0;32m----> 5\u001b[0;31m \u001b[0me\u001b[0m\u001b[0;34m=\u001b[0m\u001b[0mdebasish\u001b[0m\u001b[0;34m\u001b[0m\u001b[0;34m\u001b[0m\u001b[0m\n\u001b[0m\u001b[1;32m      6\u001b[0m \u001b[0;34m\u001b[0m\u001b[0m\n\u001b[1;32m      7\u001b[0m \u001b[0mprint\u001b[0m\u001b[0;34m(\u001b[0m\u001b[0ma\u001b[0m\u001b[0;34m)\u001b[0m\u001b[0;34m\u001b[0m\u001b[0;34m\u001b[0m\u001b[0m\n",
      "\u001b[0;31mNameError\u001b[0m: name 'debasish' is not defined"
     ]
    }
   ],
   "source": [
    "a='''Debasish''';\n",
    "b=\"\"\"debasish\"\"\";\n",
    "c='debasish';\n",
    "d=\"debasish\";\n",
    "e=debasish  # cannot write string with out quotes('',\"\",'''''',\"\"\"\"\"\")\n",
    "\n",
    "print(a)\n",
    "print(b)\n",
    "print(c)\n",
    "print(d)\n",
    "print(e)"
   ]
  },
  {
   "cell_type": "code",
   "execution_count": null,
   "metadata": {
    "colab": {
     "base_uri": "https://localhost:8080/"
    },
    "id": "ZYkIawyCjAU4",
    "outputId": "02092b5d-d4aa-49c9-ec3f-b70863f6e0cc"
   },
   "outputs": [
    {
     "name": "stdout",
     "output_type": "stream",
     "text": [
      "This is Python\n",
      "A\n",
      "This is a \n",
      "\n",
      " multi line Data \n",
      "\n",
      "\n",
      "Ünicöde\n",
      "raw \\n string\n"
     ]
    }
   ],
   "source": [
    "strings=\"This is Python\";\n",
    "char=\"A\";\n",
    "multiline_str='''This is a \n",
    "\n",
    " multi line Data \n",
    "\n",
    "''';\n",
    "unicode=u\"\\u00dcnic\\u00f6de\";\n",
    "raw_str=r\"raw \\n string\";\n",
    "\n",
    "print(strings)\n",
    "print(char)\n",
    "print(multiline_str)\n",
    "print(unicode)\n",
    "print(raw_str)\n"
   ]
  },
  {
   "cell_type": "markdown",
   "metadata": {
    "id": "p8x9xhFqkiYb"
   },
   "source": [
    "## Boolean Literals\n",
    "\n",
    "only two Values = True and Flase\n",
    "\n",
    "in python Remember **True==1** and **False==0**"
   ]
  },
  {
   "cell_type": "code",
   "execution_count": null,
   "metadata": {
    "colab": {
     "base_uri": "https://localhost:8080/"
    },
    "id": "BkG82lcrjGyL",
    "outputId": "dd3b53a0-d621-4d51-b12a-2b42a8c93eed"
   },
   "outputs": [
    {
     "name": "stdout",
     "output_type": "stream",
     "text": [
      "X is, True\n",
      "y is, False\n",
      "a is, 7\n",
      "b is, 90\n"
     ]
    }
   ],
   "source": [
    "x=(1==True)\n",
    "y=(1==False)\n",
    "a=True+6\n",
    "b=False +90\n",
    "\n",
    "print(\"X is,\",x)\n",
    "print(\"y is,\",y)\n",
    "print(\"a is,\",a)\n",
    "print(\"b is,\",b)\n",
    "\n"
   ]
  },
  {
   "cell_type": "markdown",
   "metadata": {
    "id": "KFxS0drcmOi-"
   },
   "source": [
    "## Spcial Literals\n",
    "> None\n",
    " it is used to specify to that filed that is not created \n",
    "\n"
   ]
  },
  {
   "cell_type": "code",
   "execution_count": null,
   "metadata": {
    "colab": {
     "base_uri": "https://localhost:8080/"
    },
    "id": "tU-WJM6wmTPr",
    "outputId": "16ae9478-5d6a-4aad-8ef5-1f9b99946911"
   },
   "outputs": [
    {
     "name": "stdout",
     "output_type": "stream",
     "text": [
      "Available\n",
      "None\n"
     ]
    }
   ],
   "source": [
    "veg=\"Available\"\n",
    "non_veg=None\n",
    "\n",
    "def menu(x):\n",
    "  if x==veg:\n",
    "    print(veg)\n",
    "  else:\n",
    "    print(non_veg)\n",
    "\n",
    "menu(veg)\n",
    "menu(non_veg)"
   ]
  },
  {
   "cell_type": "markdown",
   "metadata": {
    "id": "Zvjw1NPRoiA0"
   },
   "source": [
    "## Literal Collections\n",
    "\n",
    "\n",
    "There are Four Literal Collection:\n",
    "**List Literal**, **Tuple Literal**, **Dict Literal**, **Set Literal**"
   ]
  },
  {
   "cell_type": "code",
   "execution_count": null,
   "metadata": {
    "id": "3GFPH2b2pDr_"
   },
   "outputs": [],
   "source": [
    "Tech1=['Python','Java','C#','Javascript']  #=>List[]\n",
    "\n",
    "Tech2=('Python','Java','C#','Javascript')  #=>tuple()\n",
    "\n",
    "Tech3={'Python','Java','C#','Javascript'}  #=>set{}\n",
    "\n",
    "Tech4={\"1\":'Python',\n",
    "       \"2\":'Java',\n",
    "       \"3\":'C#',\n",
    "       \"4\":'Javascript'} #=>Dictionarey{\"key\":\"Value\"}\n"
   ]
  }
 ],
 "metadata": {
  "colab": {
   "collapsed_sections": [
    "aS8ETpoXeqVb",
    "CgxRO3AzgxuZ",
    "p8x9xhFqkiYb",
    "KFxS0drcmOi-"
   ],
   "provenance": []
  },
  "kernelspec": {
   "display_name": "Python 3 (ipykernel)",
   "language": "python",
   "name": "python3"
  },
  "language_info": {
   "codemirror_mode": {
    "name": "ipython",
    "version": 3
   },
   "file_extension": ".py",
   "mimetype": "text/x-python",
   "name": "python",
   "nbconvert_exporter": "python",
   "pygments_lexer": "ipython3",
   "version": "3.9.13"
  }
 },
 "nbformat": 4,
 "nbformat_minor": 1
}
