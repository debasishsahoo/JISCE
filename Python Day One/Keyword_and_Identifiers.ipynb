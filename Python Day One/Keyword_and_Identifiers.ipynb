{
 "cells": [
  {
   "cell_type": "markdown",
   "metadata": {
    "id": "PexQD8bzhmq1"
   },
   "source": [
    "# 1. keyword"
   ]
  },
  {
   "cell_type": "markdown",
   "metadata": {
    "id": "Mg3DS_iZezui"
   },
   "source": [
    "We can not use python keyword as **Valriable** or **Function** name\n",
    "\n",
    "python keyword is **Case sensitive**\n",
    "\n",
    "keyword is used to define the **syntax** and **structure** of the python language\n",
    "\n",
    "**True**, **False**, **None** except this keyword all keywords are in small letter.\n",
    "\n",
    "**Keywords in Python**\n",
    "\n",
    "\n",
    "|    |    |    |   |    |\n",
    "|:----|:----|:----|:----|:----|\n",
    "| **`False`** | **`break`** | **`for`** | **`not`** |\n",
    "| **`None`**  | **`class`** | **`from`** | **`or`** |\n",
    "| **`True`**  | **`continue`** | **`global`** |**`pass`**|\n",
    "| **`__peg_parser__`** |**`def`** | **`if`** |**`raise`**|\n",
    "| **`and`** | **`del`** | **`import`** | **`return`** |\n",
    "| **`as`** | **`elif`** | **`in`** | **`try`** |\n",
    "| **`assert`** | **`else`** | **`is`** | **`while`** |\n",
    "| **`async`** | **`except`** | **`lambda`** | **`with`** |\n",
    "| **`await`** | **`finally`** | **`nonlocal`** |**`yield`**  |\"\n",
    "\n",
    "\n",
    "\n",
    "\n",
    "\n",
    "\n",
    "\n",
    "\n",
    "\n",
    "\n"
   ]
  },
  {
   "cell_type": "code",
   "execution_count": null,
   "metadata": {
    "colab": {
     "base_uri": "https://localhost:8080/"
    },
    "id": "VqMI-Jv1d7-F",
    "outputId": "70e932c4-509c-48d3-964c-fa86e3b19c79"
   },
   "outputs": [
    {
     "name": "stdout",
     "output_type": "stream",
     "text": [
      "['False', 'None', 'True', 'and', 'as', 'assert', 'async', 'await', 'break', 'class', 'continue', 'def', 'del', 'elif', 'else', 'except', 'finally', 'for', 'from', 'global', 'if', 'import', 'in', 'is', 'lambda', 'nonlocal', 'not', 'or', 'pass', 'raise', 'return', 'try', 'while', 'with', 'yield']\n"
     ]
    }
   ],
   "source": [
    "import keyword\n",
    "print(keyword.kwlist)"
   ]
  },
  {
   "cell_type": "code",
   "execution_count": null,
   "metadata": {
    "colab": {
     "base_uri": "https://localhost:8080/"
    },
    "id": "iJk9E2LKgNGs",
    "outputId": "a3ef4865-8c98-481c-dcac-c2d3cd066ee6"
   },
   "outputs": [
    {
     "ename": "SyntaxError",
     "evalue": "ignored",
     "output_type": "error",
     "traceback": [
      "\u001b[0;36m  File \u001b[0;32m\"<ipython-input-7-5644cdfa2885>\"\u001b[0;36m, line \u001b[0;32m2\u001b[0m\n\u001b[0;31m    while=34;\u001b[0m\n\u001b[0m         ^\u001b[0m\n\u001b[0;31mSyntaxError\u001b[0m\u001b[0;31m:\u001b[0m invalid syntax\n"
     ]
    }
   ],
   "source": [
    "# it Will throw an Error because \"while\" is a key word ,can not use as a variable name\n",
    "while=34;\n",
    "print(while)\n"
   ]
  },
  {
   "cell_type": "code",
   "execution_count": null,
   "metadata": {
    "colab": {
     "base_uri": "https://localhost:8080/"
    },
    "id": "WklnInnzgvDH",
    "outputId": "31d2e5b9-425a-4d74-ad3c-76644262a543"
   },
   "outputs": [
    {
     "name": "stdout",
     "output_type": "stream",
     "text": [
      "34\n"
     ]
    }
   ],
   "source": [
    "# \"while\" is a keyword but \"While\" is not a Keyword no error is there\n",
    "While=34;\n",
    "print(While)"
   ]
  },
  {
   "cell_type": "markdown",
   "metadata": {
    "id": "NV3UDxVChvKt"
   },
   "source": [
    "#2.Identifiers"
   ]
  },
  {
   "cell_type": "markdown",
   "metadata": {
    "id": "ek39G5RViBUH"
   },
   "source": [
    " An Identifier is a name given to entites like **class** ,**function**, **variables** .\n",
    " it will help to differents one entities to another"
   ]
  },
  {
   "cell_type": "markdown",
   "metadata": {
    "id": "glNbAdOYih0j"
   },
   "source": [
    "An Identifiers can be combinations of digits **(0-9)** and lettes**(a to z)** or **(A to Z)** or an **underscore _**\n",
    "\n",
    "An Identifiers can not start with a digit example: **23Var** is **invalid** a variable name but **Var23** is a **valid** varibal name.\n",
    "\n",
    "**keyword** cannot use as **Identifier**\n",
    "\n",
    "\n",
    "cannot use special symbols like **!,@,#,$,%,^,&,*** as Identifiers"
   ]
  },
  {
   "cell_type": "code",
   "execution_count": null,
   "metadata": {
    "colab": {
     "base_uri": "https://localhost:8080/"
    },
    "id": "GFeKmJRfh2qF",
    "outputId": "21813c61-14f1-4098-9ef7-4d992c3dffc6"
   },
   "outputs": [
    {
     "name": "stdout",
     "output_type": "stream",
     "text": [
      "23\n"
     ]
    }
   ],
   "source": [
    "A2=23;\n",
    "print(A2)"
   ]
  },
  {
   "cell_type": "code",
   "execution_count": null,
   "metadata": {
    "colab": {
     "base_uri": "https://localhost:8080/",
     "height": 130
    },
    "id": "uX7S6FTvkV7H",
    "outputId": "7f363550-30d3-41fd-b0fa-40257513ec05"
   },
   "outputs": [
    {
     "ename": "SyntaxError",
     "evalue": "ignored",
     "output_type": "error",
     "traceback": [
      "\u001b[0;36m  File \u001b[0;32m\"<ipython-input-10-1b63a4245b14>\"\u001b[0;36m, line \u001b[0;32m2\u001b[0m\n\u001b[0;31m    print(A@)\u001b[0m\n\u001b[0m            ^\u001b[0m\n\u001b[0;31mSyntaxError\u001b[0m\u001b[0;31m:\u001b[0m invalid syntax\n"
     ]
    }
   ],
   "source": [
    "A@=23\n",
    "print(A@)"
   ]
  }
 ],
 "metadata": {
  "colab": {
   "collapsed_sections": [
    "Mg3DS_iZezui"
   ],
   "provenance": []
  },
  "kernelspec": {
   "display_name": "Python 3 (ipykernel)",
   "language": "python",
   "name": "python3"
  },
  "language_info": {
   "codemirror_mode": {
    "name": "ipython",
    "version": 3
   },
   "file_extension": ".py",
   "mimetype": "text/x-python",
   "name": "python",
   "nbconvert_exporter": "python",
   "pygments_lexer": "ipython3",
   "version": "3.9.13"
  }
 },
 "nbformat": 4,
 "nbformat_minor": 1
}
