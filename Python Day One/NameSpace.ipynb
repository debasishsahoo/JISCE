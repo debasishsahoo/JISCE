{
 "cells": [
  {
   "cell_type": "code",
   "execution_count": null,
   "metadata": {
    "colab": {
     "base_uri": "https://localhost:8080/"
    },
    "id": "LTtib2p69IOl",
    "outputId": "52770903-8b6d-4c5c-81e1-a6446fe6776c"
   },
   "outputs": [
    {
     "name": "stdout",
     "output_type": "stream",
     "text": [
      "id(9)= 9793344\n",
      "id(a)= 9793344\n"
     ]
    }
   ],
   "source": [
    "a=9;\n",
    "# id function is return the the memory address of a value or variable\n",
    "print('id(9)=',id(9))\n",
    "print('id(a)=',id(a))"
   ]
  },
  {
   "cell_type": "code",
   "execution_count": null,
   "metadata": {
    "colab": {
     "base_uri": "https://localhost:8080/"
    },
    "id": "A2RJpST8Aht9",
    "outputId": "d545efd1-5eaf-4564-bbbc-24b0a150b8c7"
   },
   "outputs": [
    {
     "name": "stdout",
     "output_type": "stream",
     "text": [
      "id(2)= 9793120\n",
      "id(a)= 9793152\n",
      "id(3)= 9793152\n"
     ]
    }
   ],
   "source": [
    "a=2\n",
    "print('id(2)=',id(a))\n",
    "a+=1\n",
    "print('id(a)=',id(a))\n",
    "print('id(3)=',id(3))"
   ]
  },
  {
   "cell_type": "code",
   "execution_count": 12,
   "metadata": {
    "colab": {
     "base_uri": "https://localhost:8080/",
     "height": 241
    },
    "id": "DUzXpU54BDAo",
    "outputId": "64037e36-fd5e-4251-aee6-94e3149bd8d8"
   },
   "outputs": [
    {
     "name": "stdout",
     "output_type": "stream",
     "text": [
      "2\n",
      "4\n"
     ]
    },
    {
     "ename": "NameError",
     "evalue": "ignored",
     "output_type": "error",
     "traceback": [
      "\u001b[0;31m---------------------------------------------------------------------------\u001b[0m",
      "\u001b[0;31mNameError\u001b[0m                                 Traceback (most recent call last)",
      "\u001b[0;32m<ipython-input-12-167c1518729c>\u001b[0m in \u001b[0;36m<module>\u001b[0;34m\u001b[0m\n\u001b[1;32m      9\u001b[0m \u001b[0mfun\u001b[0m\u001b[0;34m(\u001b[0m\u001b[0;34m)\u001b[0m\u001b[0;34m\u001b[0m\u001b[0;34m\u001b[0m\u001b[0m\n\u001b[1;32m     10\u001b[0m \u001b[0;34m\u001b[0m\u001b[0m\n\u001b[0;32m---> 11\u001b[0;31m \u001b[0mprint\u001b[0m\u001b[0;34m(\u001b[0m\u001b[0mb\u001b[0m\u001b[0;34m)\u001b[0m\u001b[0;34m\u001b[0m\u001b[0;34m\u001b[0m\u001b[0m\n\u001b[0m",
      "\u001b[0;31mNameError\u001b[0m: name 'b' is not defined"
     ]
    }
   ],
   "source": [
    "a=2  # Global Variable cause any one acess the variable in this file\n",
    "print(a)\n",
    "\n",
    "def fun():\n",
    "  b=3\n",
    "  b+=1\n",
    "  print(b) # local scoap of b valriable cause b declar under function fun() so its all access resticted to function fun() only\n",
    "\n",
    "fun()\n",
    "\n",
    "print(b)"
   ]
  },
  {
   "cell_type": "code",
   "execution_count": 13,
   "metadata": {
    "colab": {
     "base_uri": "https://localhost:8080/"
    },
    "id": "1lZRx_A-ChIh",
    "outputId": "4d5afad0-0a01-43e9-ebe1-90893dde5006"
   },
   "outputs": [
    {
     "name": "stdout",
     "output_type": "stream",
     "text": [
      "2\n"
     ]
    }
   ],
   "source": [
    "print(a) # we can access a cause the Global scope to the a variable"
   ]
  },
  {
   "cell_type": "code",
   "execution_count": 17,
   "metadata": {
    "colab": {
     "base_uri": "https://localhost:8080/"
    },
    "id": "saio6xGQSr1q",
    "outputId": "07973973-f4bf-474c-af64-e8244ba0e273"
   },
   "outputs": [
    {
     "name": "stdout",
     "output_type": "stream",
     "text": [
      "Outer function invoke\n",
      "Inner function invoke\n",
      "from inner function a= 60\n",
      "from outer function a= 30\n",
      "from outside of the function a= 90\n"
     ]
    }
   ],
   "source": [
    "def outer_function():\n",
    "  print('Outer function invoke')\n",
    "  a=30     # variable a is under the scope of outer_function()\n",
    "  def inner_function():\n",
    "    print('Inner function invoke')\n",
    "    a=60   # variable a is under the scope of inner_function()\n",
    "    print('from inner function a=',a)\n",
    "  inner_function()\n",
    "  print('from outer function a=',a)\n",
    "\n",
    "\n",
    "a=90      # variable a is under the scope ofoutside if the function\n",
    "outer_function()\n",
    "print(\"from outside of the function a=\",a)"
   ]
  },
  {
   "cell_type": "code",
   "execution_count": 19,
   "metadata": {
    "colab": {
     "base_uri": "https://localhost:8080/"
    },
    "id": "9I_71GvtU4yB",
    "outputId": "af656b5d-c032-4896-9ba4-20a0c8a6e06f"
   },
   "outputs": [
    {
     "name": "stdout",
     "output_type": "stream",
     "text": [
      "Outer function invoke\n",
      "Inner function invoke\n",
      "from inner function a= 60\n",
      "from outer function a= 60\n",
      "from outside of the function a= 60\n"
     ]
    }
   ],
   "source": [
    "def outer_function():\n",
    "  print('Outer function invoke')\n",
    "  global a;\n",
    "  a=30     \n",
    "  def inner_function():\n",
    "    print('Inner function invoke')\n",
    "    global a   \n",
    "    a=60\n",
    "    print('from inner function a=',a)\n",
    "  inner_function()\n",
    "  print('from outer function a=',a)\n",
    "\n",
    "a=90     \n",
    "outer_function()\n",
    "print(\"from outside of the function a=\",a)"
   ]
  }
 ],
 "metadata": {
  "colab": {
   "provenance": []
  },
  "kernelspec": {
   "display_name": "Python 3 (ipykernel)",
   "language": "python",
   "name": "python3"
  },
  "language_info": {
   "codemirror_mode": {
    "name": "ipython",
    "version": 3
   },
   "file_extension": ".py",
   "mimetype": "text/x-python",
   "name": "python",
   "nbconvert_exporter": "python",
   "pygments_lexer": "ipython3",
   "version": "3.9.13"
  }
 },
 "nbformat": 4,
 "nbformat_minor": 1
}
