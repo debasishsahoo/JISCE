{
 "cells": [
  {
   "cell_type": "markdown",
   "metadata": {
    "id": "wbIw_xTEPKy3"
   },
   "source": [
    "Python is a **general purpose, morden, dynamic, robust, high level** and **interprite** programing language.\n",
    "\n",
    "# Used in\n",
    "1.   **Web Devlopment**\n",
    "2.   **Data Science**\n",
    "3.   **Software Prototype**\n",
    "4.   **Automation**\n",
    "\n",
    "\n",
    "\n",
    "\n",
    "\n",
    "\n",
    "\n",
    "\n",
    "\n",
    "\n",
    "\n"
   ]
  },
  {
   "cell_type": "markdown",
   "metadata": {
    "id": "-8UyJ1lNRPsl"
   },
   "source": [
    "# Hello World"
   ]
  },
  {
   "cell_type": "code",
   "execution_count": null,
   "metadata": {
    "colab": {
     "base_uri": "https://localhost:8080/"
    },
    "id": "6ETAwi41RPZ1",
    "outputId": "beb7ea97-c5f5-4334-cf9f-e23a8764b6b3"
   },
   "outputs": [
    {
     "name": "stdout",
     "output_type": "stream",
     "text": [
      "Hello World\n"
     ]
    }
   ],
   "source": [
    "print(\"Hello World\")"
   ]
  },
  {
   "cell_type": "markdown",
   "metadata": {
    "id": "qxAwyYF2UKlL"
   },
   "source": [
    "**print()** is a function that tells to computer to perform an **action** .\n",
    "**print** is a **built-in -function** which print a text **'Hello World'**\n",
    "\n",
    "\n",
    "\n",
    "\n"
   ]
  },
  {
   "cell_type": "markdown",
   "metadata": {
    "id": "VaGocoLwV6WW"
   },
   "source": [
    "# How to print Blank Lines "
   ]
  },
  {
   "cell_type": "markdown",
   "metadata": {
    "id": "i9PcXgW5Yks_"
   },
   "source": [
    "  ## (\\n) New Line"
   ]
  },
  {
   "cell_type": "code",
   "execution_count": null,
   "metadata": {
    "colab": {
     "base_uri": "https://localhost:8080/"
    },
    "id": "1w_jDGqIUoxV",
    "outputId": "e17f22ff-6615-47ad-f6d5-8a3c39ff176f"
   },
   "outputs": [
    {
     "name": "stdout",
     "output_type": "stream",
     "text": [
      "print 9 Blank Line......\n",
      "\n",
      "\n",
      "\n",
      "\n",
      "\n",
      "\n",
      "\n",
      "\n",
      "\n",
      "\n",
      "Blank line Ended here......\n"
     ]
    }
   ],
   "source": [
    "print('print 9 Blank Line......')\n",
    "print(9 * \"\\n\")\n",
    "#print(\"\\n\\n\\n\\n\\n\\n\\n\\n\\n\")\n",
    "print('Blank line Ended here......')\n"
   ]
  },
  {
   "cell_type": "code",
   "execution_count": null,
   "metadata": {
    "colab": {
     "base_uri": "https://localhost:8080/"
    },
    "id": "yG3miG-bbw08",
    "outputId": "33e9016a-e5f4-4525-c27f-7bb38c91a419"
   },
   "outputs": [
    {
     "name": "stdout",
     "output_type": "stream",
     "text": [
      "_D_D_D_D_D_D_D_D_D_D_D_D_D_D_D_D_D_D_D_D_D_D_D_D_D_D_D_D_D_D\n"
     ]
    }
   ],
   "source": [
    "print('_D'*30)"
   ]
  },
  {
   "cell_type": "code",
   "execution_count": null,
   "metadata": {
    "colab": {
     "base_uri": "https://localhost:8080/"
    },
    "id": "GgZEAKyaWG0H",
    "outputId": "cd3d486a-88db-46e7-fe01-606882515431"
   },
   "outputs": [
    {
     "name": "stdout",
     "output_type": "stream",
     "text": [
      "Jan\n",
      "Feb\n",
      "Mar\n",
      "Apr\n",
      "May\n",
      "Jun\n",
      "jul\n",
      "Aug\n",
      "Sep\n",
      "Oct\n",
      "Nov\n",
      "Dec\n"
     ]
    }
   ],
   "source": [
    "print(\"Jan\\nFeb\\nMar\\nApr\\nMay\\nJun\\njul\\nAug\\nSep\\nOct\\nNov\\nDec\")"
   ]
  },
  {
   "cell_type": "code",
   "execution_count": null,
   "metadata": {
    "colab": {
     "base_uri": "https://localhost:8080/"
    },
    "id": "cehGkyirWppK",
    "outputId": "aedf3d70-bfbe-4459-b3f7-754086078af5"
   },
   "outputs": [
    {
     "name": "stdout",
     "output_type": "stream",
     "text": [
      "I want \\n to be Printed\n"
     ]
    }
   ],
   "source": [
    "print(\"I want \\\\n to be Printed\")"
   ]
  },
  {
   "cell_type": "markdown",
   "metadata": {
    "id": "e9QwquBUXP4F"
   },
   "source": [
    "## (\\t) or Tab(Equal to 4 Space)"
   ]
  },
  {
   "cell_type": "code",
   "execution_count": null,
   "metadata": {
    "colab": {
     "base_uri": "https://localhost:8080/"
    },
    "id": "iPzfcU0PXH3O",
    "outputId": "b0075109-7a56-4d89-a992-ffc794d2fde4"
   },
   "outputs": [
    {
     "name": "stdout",
     "output_type": "stream",
     "text": [
      "Hello\tWorld\n"
     ]
    }
   ],
   "source": [
    "print(\"Hello\\tWorld\")"
   ]
  },
  {
   "cell_type": "code",
   "execution_count": null,
   "metadata": {
    "colab": {
     "base_uri": "https://localhost:8080/"
    },
    "id": "j-tNCj-TXoTp",
    "outputId": "40ffdc65-50f7-49c5-bef6-17939b5067e9"
   },
   "outputs": [
    {
     "name": "stdout",
     "output_type": "stream",
     "text": [
      "\n",
      "Python:\n",
      "\t -Variable\n",
      "\t -Operators\n",
      "\t -Input-Output\n",
      "\n"
     ]
    }
   ],
   "source": [
    "print(\"\"\"\n",
    "Python:\n",
    "\\t -Variable\n",
    "\\t -Operators\n",
    "\\t -Input-Output\n",
    "\"\"\")"
   ]
  },
  {
   "cell_type": "markdown",
   "metadata": {
    "id": "jvWQVeCDYUPm"
   },
   "source": [
    "# Print end Command"
   ]
  },
  {
   "cell_type": "markdown",
   "metadata": {
    "id": "GV0r-qnFZVxd"
   },
   "source": [
    "By Default Python print() function ends with a newline.\n",
    "\n",
    "**print(*objects, sep=' ', end='\\n', file=None, flush=False)**\n",
    "\n",
    "\n",
    "this function is come with a parameter calaled end.the default value of this parameter is **\\n**\n",
    "\n",
    "we just need to replace the the **\\n** with our Argument"
   ]
  },
  {
   "cell_type": "code",
   "execution_count": null,
   "metadata": {
    "colab": {
     "base_uri": "https://localhost:8080/"
    },
    "id": "CbTGqwj5YY8X",
    "outputId": "df06ee1a-f009-4f23-86e9-fd0dad481ea8"
   },
   "outputs": [
    {
     "name": "stdout",
     "output_type": "stream",
     "text": [
      "Welcome to\n",
      "Python\n"
     ]
    }
   ],
   "source": [
    "print(\"Welcome to\")\n",
    "print(\"Python\")"
   ]
  },
  {
   "cell_type": "code",
   "execution_count": null,
   "metadata": {
    "colab": {
     "base_uri": "https://localhost:8080/"
    },
    "id": "QH_0AkiCZcE1",
    "outputId": "2065754a-ddab-44f4-b3d2-8f7b0c5d8b6a"
   },
   "outputs": [
    {
     "name": "stdout",
     "output_type": "stream",
     "text": [
      "Welcome to Python!"
     ]
    }
   ],
   "source": [
    "print(\"Welcome to\",end=' ')\n",
    "print(\"Python\",end='!')"
   ]
  },
  {
   "cell_type": "code",
   "execution_count": null,
   "metadata": {
    "colab": {
     "base_uri": "https://localhost:8080/"
    },
    "id": "LxptPnx7bCao",
    "outputId": "525ee953-8b2d-4f93-f428-412c33a51738"
   },
   "outputs": [
    {
     "name": "stdout",
     "output_type": "stream",
     "text": [
      "Mailid:debasish.sahoo96@gmail.com\n",
      "This is my Mail id\n"
     ]
    }
   ],
   "source": [
    "print(\"Mailid\",end=':')\n",
    "print(\"debasish\",end='.')\n",
    "print(\"sahoo96\",end='@')\n",
    "print(\"gmail\",end='.')\n",
    "print(\"com\")\n",
    "print(\"This is my Mail id\")"
   ]
  }
 ],
 "metadata": {
  "colab": {
   "collapsed_sections": [
    "e9QwquBUXP4F"
   ],
   "provenance": []
  },
  "kernelspec": {
   "display_name": "Python 3 (ipykernel)",
   "language": "python",
   "name": "python3"
  },
  "language_info": {
   "codemirror_mode": {
    "name": "ipython",
    "version": 3
   },
   "file_extension": ".py",
   "mimetype": "text/x-python",
   "name": "python",
   "nbconvert_exporter": "python",
   "pygments_lexer": "ipython3",
   "version": "3.9.13"
  }
 },
 "nbformat": 4,
 "nbformat_minor": 1
}
