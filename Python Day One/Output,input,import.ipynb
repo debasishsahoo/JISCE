{
 "cells": [
  {
   "cell_type": "markdown",
   "metadata": {
    "id": "DKqiMKEuT8FO"
   },
   "source": [
    "# Input Output Import"
   ]
  },
  {
   "cell_type": "markdown",
   "metadata": {
    "id": "-6rmCR4uUHAP"
   },
   "source": [
    "## Output Formationg using Print function "
   ]
  },
  {
   "cell_type": "code",
   "execution_count": null,
   "metadata": {
    "colab": {
     "base_uri": "https://localhost:8080/"
    },
    "id": "8PUbbVcdT3Yj",
    "outputId": "883a7e52-30d9-4350-8c88-28e556ba4bf3"
   },
   "outputs": [
    {
     "name": "stdout",
     "output_type": "stream",
     "text": [
      "This is Print function formationg\n"
     ]
    }
   ],
   "source": [
    "# Single Statement\n",
    "print('This is Print function formationg')"
   ]
  },
  {
   "cell_type": "code",
   "execution_count": null,
   "metadata": {
    "colab": {
     "base_uri": "https://localhost:8080/"
    },
    "id": "jasoEE-nT6UP",
    "outputId": "bcacef20-36a3-43e0-c401-76070780cf21"
   },
   "outputs": [
    {
     "name": "stdout",
     "output_type": "stream",
     "text": [
      "This Value of a is: 10\n"
     ]
    }
   ],
   "source": [
    "# Pass A value \n",
    "a=10;\n",
    "print('This Value of a is:',a)"
   ]
  },
  {
   "cell_type": "code",
   "execution_count": null,
   "metadata": {
    "colab": {
     "base_uri": "https://localhost:8080/"
    },
    "id": "o4YIUAn7UuHV",
    "outputId": "a497ac7d-a0e9-410d-9276-1901d10b4acf"
   },
   "outputs": [
    {
     "name": "stdout",
     "output_type": "stream",
     "text": [
      "1 1 1 1\n",
      "1@1@1@1\n",
      "1 * 1 * 1 * 1&"
     ]
    }
   ],
   "source": [
    "print(1,1,1,1)\n",
    "print(1,1,1,1,sep='@') # \"sep\" is seprate the output value with # element\n",
    "print(1,1,1,1,sep=' * ',end='&') # \"sep\" is seprate the output value with * element and end with '&'"
   ]
  },
  {
   "cell_type": "code",
   "execution_count": null,
   "metadata": {
    "colab": {
     "base_uri": "https://localhost:8080/"
    },
    "id": "-rnYBCDsVf2i",
    "outputId": "889c5025-4e27-4a5c-c041-e83d94030801"
   },
   "outputs": [
    {
     "name": "stdout",
     "output_type": "stream",
     "text": [
      "This value of x is 6 and y is 7\n"
     ]
    }
   ],
   "source": [
    "# str.format()\n",
    "x=6;\n",
    "y=7;\n",
    "print('This value of x is {} and y is {}'.format(x,y))"
   ]
  },
  {
   "cell_type": "code",
   "execution_count": null,
   "metadata": {
    "colab": {
     "base_uri": "https://localhost:8080/"
    },
    "id": "yDxgTgY3WDhX",
    "outputId": "d13790c7-8b7d-4f0c-8f57-37e95b5ce77b"
   },
   "outputs": [
    {
     "name": "stdout",
     "output_type": "stream",
     "text": [
      "I love Mango and Banana\n",
      "I love Mango and Banana\n",
      "I love Banana and Mango\n"
     ]
    }
   ],
   "source": [
    "print('I love {} and {}'.format('Mango','Banana'))\n",
    "\n",
    "print('I love {0} and {1}'.format('Mango','Banana'))\n",
    "\n",
    "print('I love {1} and {0}'.format('Mango','Banana'))"
   ]
  },
  {
   "cell_type": "code",
   "execution_count": null,
   "metadata": {
    "colab": {
     "base_uri": "https://localhost:8080/"
    },
    "id": "tXwClH3MWii6",
    "outputId": "2660a30c-c265-4bab-81dd-474a8f87feae"
   },
   "outputs": [
    {
     "name": "stdout",
     "output_type": "stream",
     "text": [
      "hello Debasish ,good Morning\n"
     ]
    }
   ],
   "source": [
    "print('hello {name} ,{greeting}'.format(greeting='good Morning',name='Debasish'))"
   ]
  },
  {
   "cell_type": "code",
   "execution_count": null,
   "metadata": {
    "colab": {
     "base_uri": "https://localhost:8080/"
    },
    "id": "oHIKJMAUXDpt",
    "outputId": "094efb3e-1bba-46c2-e7af-b8e6a956945f"
   },
   "outputs": [
    {
     "name": "stdout",
     "output_type": "stream",
     "text": [
      "The Value of X is 12.13\n",
      "The Value of X is 12.13242\n"
     ]
    }
   ],
   "source": [
    "x=12.132423523532231435;\n",
    "print('The Value of X is %0.2f'%x);\n",
    "print('The Value of X is %0.5f'%x);"
   ]
  },
  {
   "cell_type": "markdown",
   "metadata": {
    "id": "KRg4OPCsX4uy"
   },
   "source": [
    "## input Formating"
   ]
  },
  {
   "cell_type": "code",
   "execution_count": null,
   "metadata": {
    "colab": {
     "base_uri": "https://localhost:8080/",
     "height": 71
    },
    "id": "mS_coul7YAKq",
    "outputId": "f2aec017-3335-4f30-e9d3-00aa36ee41d7"
   },
   "outputs": [
    {
     "name": "stdout",
     "output_type": "stream",
     "text": [
      "Enter a Number123\n",
      "123\n"
     ]
    },
    {
     "data": {
      "application/vnd.google.colaboratory.intrinsic+json": {
       "type": "string"
      },
      "text/plain": [
       "'123'"
      ]
     },
     "execution_count": 16,
     "metadata": {},
     "output_type": "execute_result"
    }
   ],
   "source": [
    "num=input('Enter a Number')\n",
    "print(num)\n",
    "num"
   ]
  },
  {
   "cell_type": "code",
   "execution_count": null,
   "metadata": {
    "colab": {
     "base_uri": "https://localhost:8080/"
    },
    "id": "czB31EPlYvMu",
    "outputId": "f82a1a40-3afd-4bfa-b3b6-11dce947afa6"
   },
   "outputs": [
    {
     "name": "stdout",
     "output_type": "stream",
     "text": [
      "Enter a Number123\n",
      "123\n"
     ]
    },
    {
     "data": {
      "text/plain": [
       "123"
      ]
     },
     "execution_count": 17,
     "metadata": {},
     "output_type": "execute_result"
    }
   ],
   "source": [
    "num=int(input('Enter a Number'))\n",
    "print(num)\n",
    "num"
   ]
  },
  {
   "cell_type": "code",
   "execution_count": null,
   "metadata": {
    "colab": {
     "base_uri": "https://localhost:8080/"
    },
    "id": "eLyCcBKgY8cA",
    "outputId": "0f9dc607-7eb3-44ea-f148-db0b5677e748"
   },
   "outputs": [
    {
     "name": "stdout",
     "output_type": "stream",
     "text": [
      "Enter a Number123\n",
      "123.0\n"
     ]
    },
    {
     "data": {
      "text/plain": [
       "123.0"
      ]
     },
     "execution_count": 18,
     "metadata": {},
     "output_type": "execute_result"
    }
   ],
   "source": [
    "num=float(input('Enter a Number'))\n",
    "print(num)\n",
    "num"
   ]
  },
  {
   "cell_type": "code",
   "execution_count": null,
   "metadata": {
    "colab": {
     "base_uri": "https://localhost:8080/"
    },
    "id": "wMjZWHInZFGa",
    "outputId": "ccff786e-3726-4228-859d-4fb00a4b2655"
   },
   "outputs": [
    {
     "name": "stdout",
     "output_type": "stream",
     "text": [
      "Debasish Sahoo\n"
     ]
    }
   ],
   "source": [
    "a='Debasish'\n",
    "b=' Sahoo'\n",
    "\n",
    "print(a+b);"
   ]
  },
  {
   "cell_type": "code",
   "execution_count": null,
   "metadata": {
    "colab": {
     "base_uri": "https://localhost:8080/",
     "height": 204
    },
    "id": "k-iyJTlIZV6j",
    "outputId": "848297c9-dd07-4a92-bcbb-281e46b65d66"
   },
   "outputs": [
    {
     "ename": "TypeError",
     "evalue": "ignored",
     "output_type": "error",
     "traceback": [
      "\u001b[0;31m---------------------------------------------------------------------------\u001b[0m",
      "\u001b[0;31mTypeError\u001b[0m                                 Traceback (most recent call last)",
      "\u001b[0;32m<ipython-input-22-140fa8ccdb2d>\u001b[0m in \u001b[0;36m<module>\u001b[0;34m\u001b[0m\n\u001b[1;32m      1\u001b[0m \u001b[0ma\u001b[0m\u001b[0;34m=\u001b[0m\u001b[0;36m23\u001b[0m\u001b[0;34m\u001b[0m\u001b[0;34m\u001b[0m\u001b[0m\n\u001b[1;32m      2\u001b[0m \u001b[0mb\u001b[0m\u001b[0;34m=\u001b[0m\u001b[0;34m'23'\u001b[0m\u001b[0;34m\u001b[0m\u001b[0;34m\u001b[0m\u001b[0m\n\u001b[0;32m----> 3\u001b[0;31m \u001b[0mprint\u001b[0m\u001b[0;34m(\u001b[0m\u001b[0ma\u001b[0m\u001b[0;34m+\u001b[0m\u001b[0mb\u001b[0m\u001b[0;34m)\u001b[0m\u001b[0;34m;\u001b[0m\u001b[0;34m\u001b[0m\u001b[0;34m\u001b[0m\u001b[0m\n\u001b[0m",
      "\u001b[0;31mTypeError\u001b[0m: unsupported operand type(s) for +: 'int' and 'str'"
     ]
    }
   ],
   "source": [
    "a=23\n",
    "b='23'\n",
    "print(a+b); "
   ]
  },
  {
   "cell_type": "code",
   "execution_count": null,
   "metadata": {
    "colab": {
     "base_uri": "https://localhost:8080/"
    },
    "id": "Z4DEd2hIZd4U",
    "outputId": "f1063759-eebf-4a39-943a-290e5b27e308"
   },
   "outputs": [
    {
     "name": "stdout",
     "output_type": "stream",
     "text": [
      "233\n"
     ]
    }
   ],
   "source": [
    "a='2'\n",
    "b='33'\n",
    "print(a+b); "
   ]
  },
  {
   "cell_type": "code",
   "execution_count": null,
   "metadata": {
    "colab": {
     "base_uri": "https://localhost:8080/"
    },
    "id": "71mLmid3ZnLF",
    "outputId": "d262d6b7-8744-4228-c4fe-692112864efa"
   },
   "outputs": [
    {
     "name": "stdout",
     "output_type": "stream",
     "text": [
      "233\n",
      "35\n"
     ]
    }
   ],
   "source": [
    "a='2'\n",
    "b='33'\n",
    "print(eval(a+b)); \n",
    "print(eval('2+33')); "
   ]
  },
  {
   "cell_type": "markdown",
   "metadata": {
    "id": "R60AYVU0b72k"
   },
   "source": [
    "### only Int input"
   ]
  },
  {
   "cell_type": "code",
   "execution_count": null,
   "metadata": {
    "colab": {
     "base_uri": "https://localhost:8080/"
    },
    "id": "YtiDAX7wb1AU",
    "outputId": "4152bf8a-d494-4668-bcf4-2e0858111137"
   },
   "outputs": [
    {
     "name": "stdout",
     "output_type": "stream",
     "text": [
      "Enter First Number:12\n",
      "Enter Second Number:13\n",
      "<class 'int'>\n",
      "<class 'int'>\n"
     ]
    }
   ],
   "source": [
    "a=int(input(\"Enter First Number:\"));\n",
    "b=int(input(\"Enter Second Number:\"));\n",
    "print(type(a))\n",
    "print(type(b))"
   ]
  },
  {
   "cell_type": "markdown",
   "metadata": {
    "id": "d5zIeHHgcikI"
   },
   "source": [
    "### Only  float Input"
   ]
  },
  {
   "cell_type": "code",
   "execution_count": null,
   "metadata": {
    "colab": {
     "base_uri": "https://localhost:8080/"
    },
    "id": "0tbfQoQfcdq5",
    "outputId": "26ee453a-85a7-4660-cb4a-bd1b1d48913f"
   },
   "outputs": [
    {
     "name": "stdout",
     "output_type": "stream",
     "text": [
      "Enter First Number:12\n",
      "Enter Second Number:1.45\n",
      "<class 'float'>\n",
      "<class 'float'>\n"
     ]
    }
   ],
   "source": [
    "a=float(input(\"Enter First Number:\"));\n",
    "b=float(input(\"Enter Second Number:\"));\n",
    "print(type(a))\n",
    "print(type(b))"
   ]
  },
  {
   "cell_type": "markdown",
   "metadata": {
    "id": "kXBYWUM9c_tD"
   },
   "source": [
    "### Multiple Input\n"
   ]
  },
  {
   "cell_type": "code",
   "execution_count": null,
   "metadata": {
    "colab": {
     "base_uri": "https://localhost:8080/"
    },
    "id": "jQBlDT4cdDWS",
    "outputId": "2d296ce9-be83-4083-e486-a9ac59018aa9"
   },
   "outputs": [
    {
     "name": "stdout",
     "output_type": "stream",
     "text": [
      "Enter your Name,Age,Phone seperated by Space:dev 23 9681\n",
      "\n",
      "\n",
      "User Details: dev 23 9681\n"
     ]
    }
   ],
   "source": [
    "name,age,phone=input(\"Enter your Name,Age,Phone seperated by Space:\").split()\n",
    "print(\"\\n\");\n",
    "print(\"User Details:\",name,age,phone)"
   ]
  },
  {
   "cell_type": "code",
   "execution_count": null,
   "metadata": {
    "colab": {
     "base_uri": "https://localhost:8080/"
    },
    "id": "64hNM3F_d1HZ",
    "outputId": "92f8c804-3633-4833-8e74-57c50f437c60"
   },
   "outputs": [
    {
     "name": "stdout",
     "output_type": "stream",
     "text": [
      "Enter your Name,Age,Phone seperated by commma:deb,23,9681224048\n",
      "\n",
      "\n",
      "User Details: deb 23 9681224048\n"
     ]
    }
   ],
   "source": [
    "name,age,phone=input(\"Enter your Name,Age,Phone seperated by commma:\").split(',')\n",
    "print(\"\\n\");\n",
    "print(\"User Details:\",name,age,phone)"
   ]
  },
  {
   "cell_type": "markdown",
   "metadata": {
    "id": "Ah_eV1pQefft"
   },
   "source": [
    "### Multiline Input"
   ]
  },
  {
   "cell_type": "code",
   "execution_count": null,
   "metadata": {
    "colab": {
     "base_uri": "https://localhost:8080/"
    },
    "id": "JpdnG15keeZ2",
    "outputId": "2360c6a5-25a3-4804-af67-52191c430294"
   },
   "outputs": [
    {
     "name": "stdout",
     "output_type": "stream",
     "text": [
      "Tell me about yourself\n",
      "hello python\n",
      "hi python \n",
      "bye python \n",
      "\n",
      "\n",
      "\n",
      "Final text input\n",
      "hello python\n",
      "hi python \n",
      "bye python \n"
     ]
    }
   ],
   "source": [
    "Multiline=[]\n",
    "print(\"Tell me about yourself\");\n",
    "while True:\n",
    "  line=input()\n",
    "  if line:\n",
    "    Multiline.append(line)\n",
    "  else:\n",
    "    break\n",
    "finalText='\\n'.join(Multiline)\n",
    "print(\"\\n\")\n",
    "print(\"Final text input\")\n",
    "print(finalText)"
   ]
  },
  {
   "cell_type": "markdown",
   "metadata": {
    "id": "b4tnIiothVR3"
   },
   "source": [
    "### Format output strings by its positions"
   ]
  },
  {
   "cell_type": "code",
   "execution_count": null,
   "metadata": {
    "colab": {
     "base_uri": "https://localhost:8080/"
    },
    "id": "YXclGjoWgRej",
    "outputId": "0a6ea2d8-7997-4cde-c242-8b29c734c5c8"
   },
   "outputs": [
    {
     "name": "stdout",
     "output_type": "stream",
     "text": [
      "Enter the First Namedebasish\n",
      "Enter the last Namesahoo\n",
      "Enter office Namephonix opc ltd\n",
      "\n",
      "\n",
      "debasish sahoo work at phonix opc ltd\n",
      "sahoo debasish work at phonix opc ltd\n"
     ]
    }
   ],
   "source": [
    "firstname=input('Enter the First Name');\n",
    "lastname=input('Enter the last Name');\n",
    "org=input('Enter office Name');\n",
    "\n",
    "print(\"\\n\")\n",
    "print('{0} {1} work at {2}'.format(firstname,lastname,org))\n",
    "print('{1} {0} work at {2}'.format(firstname,lastname,org))\n",
    "\n",
    "\n"
   ]
  },
  {
   "cell_type": "markdown",
   "metadata": {
    "id": "KEhOLQRlhfX4"
   },
   "source": [
    "### Accessing output strings arguments by name"
   ]
  },
  {
   "cell_type": "code",
   "execution_count": null,
   "metadata": {
    "colab": {
     "base_uri": "https://localhost:8080/"
    },
    "id": "i6loxqC9hTAI",
    "outputId": "55c07d4c-da47-4908-aab1-30ae51090b22"
   },
   "outputs": [
    {
     "name": "stdout",
     "output_type": "stream",
     "text": [
      "Enter Your Namedev \n",
      "Enter Your Marks23\n",
      "\n",
      "\n",
      "Student name is dev  and marks is 23\n"
     ]
    }
   ],
   "source": [
    "name=input('Enter Your Name');\n",
    "marks=input('Enter Your Marks');\n",
    "print('\\n')\n",
    "print(\"Student name is {NAME} and marks is {MARKS}\".format(NAME=name,MARKS=marks))"
   ]
  },
  {
   "cell_type": "markdown",
   "metadata": {
    "id": "a5qcuuW8iggA"
   },
   "source": [
    "## Import"
   ]
  },
  {
   "cell_type": "code",
   "execution_count": null,
   "metadata": {
    "colab": {
     "base_uri": "https://localhost:8080/"
    },
    "id": "se6_1Gkpim24",
    "outputId": "3202eb6a-302e-4486-9eff-32f93f6f6f8c"
   },
   "outputs": [
    {
     "name": "stdout",
     "output_type": "stream",
     "text": [
      "3.141592653589793\n"
     ]
    }
   ],
   "source": [
    "import math\n",
    "print(math.pi)"
   ]
  },
  {
   "cell_type": "code",
   "execution_count": null,
   "metadata": {
    "colab": {
     "base_uri": "https://localhost:8080/"
    },
    "id": "FK5tgwqci_hr",
    "outputId": "f2ea94f8-0767-4ac9-c772-ae2da6408f7d"
   },
   "outputs": [
    {
     "data": {
      "text/plain": [
       "3.141592653589793"
      ]
     },
     "execution_count": 45,
     "metadata": {},
     "output_type": "execute_result"
    }
   ],
   "source": [
    "from math import pi\n",
    "pi"
   ]
  },
  {
   "cell_type": "code",
   "execution_count": null,
   "metadata": {
    "colab": {
     "base_uri": "https://localhost:8080/"
    },
    "id": "Y00SzoI9jYj_",
    "outputId": "98c3c6da-37a4-4084-e242-c4ac294a9c50"
   },
   "outputs": [
    {
     "data": {
      "text/plain": [
       "['/content',\n",
       " '/env/python',\n",
       " '/usr/lib/python38.zip',\n",
       " '/usr/lib/python3.8',\n",
       " '/usr/lib/python3.8/lib-dynload',\n",
       " '',\n",
       " '/usr/local/lib/python3.8/dist-packages',\n",
       " '/usr/lib/python3/dist-packages',\n",
       " '/usr/local/lib/python3.8/dist-packages/IPython/extensions',\n",
       " '/root/.ipython']"
      ]
     },
     "execution_count": 47,
     "metadata": {},
     "output_type": "execute_result"
    }
   ],
   "source": [
    "import sys \n",
    "sys.path"
   ]
  }
 ],
 "metadata": {
  "colab": {
   "collapsed_sections": [
    "-6rmCR4uUHAP",
    "KRg4OPCsX4uy",
    "R60AYVU0b72k",
    "d5zIeHHgcikI",
    "kXBYWUM9c_tD",
    "Ah_eV1pQefft",
    "b4tnIiothVR3"
   ],
   "provenance": []
  },
  "kernelspec": {
   "display_name": "Python 3 (ipykernel)",
   "language": "python",
   "name": "python3"
  },
  "language_info": {
   "codemirror_mode": {
    "name": "ipython",
    "version": 3
   },
   "file_extension": ".py",
   "mimetype": "text/x-python",
   "name": "python",
   "nbconvert_exporter": "python",
   "pygments_lexer": "ipython3",
   "version": "3.9.13"
  }
 },
 "nbformat": 4,
 "nbformat_minor": 1
}
