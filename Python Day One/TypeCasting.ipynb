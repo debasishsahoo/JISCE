{
 "cells": [
  {
   "cell_type": "markdown",
   "metadata": {
    "id": "lSKWmnQGMRaV"
   },
   "source": [
    "# Python Type Convertion and Type Casting\n",
    "the Process of Converting the Value of one data type to another data type is called type convertion.\n",
    "\n",
    "*   Implicit Type Convertion\n",
    "*   Explicit Type Convertion\n",
    "\n"
   ]
  },
  {
   "cell_type": "markdown",
   "metadata": {
    "id": "p9mQdiNOM1DQ"
   },
   "source": [
    "## 1.Implicit Type Convertion \n",
    "In this case Python Automatically convert one data type to another data type.\n",
    ">Note: no need to manuall intervetion.\n"
   ]
  },
  {
   "cell_type": "code",
   "execution_count": 1,
   "metadata": {
    "colab": {
     "base_uri": "https://localhost:8080/"
    },
    "id": "jX1Ovzw4MMK2",
    "outputId": "65f6bcae-e00c-4b39-c210-d94e6d0592bd"
   },
   "outputs": [
    {
     "name": "stdout",
     "output_type": "stream",
     "text": [
      "246.0\n",
      "Data type of a <class 'int'>\n",
      "Data type of b <class 'float'>\n",
      "Data type of c <class 'float'>\n"
     ]
    }
   ],
   "source": [
    "a=123\n",
    "b=123.0\n",
    "\n",
    "c=a+b  # Python convert c into float Implicitly couse float is greater then int \n",
    "# Implicit convertion always happne between lower data type to higher data type \n",
    "print(c)\n",
    "print(\"Data type of a\",type(a))\n",
    "print(\"Data type of b\",type(b))\n",
    "print(\"Data type of c\",type(c))"
   ]
  },
  {
   "cell_type": "code",
   "execution_count": 2,
   "metadata": {},
   "outputs": [
    {
     "name": "stdout",
     "output_type": "stream",
     "text": [
      "123\n"
     ]
    }
   ],
   "source": [
    "a=int(123.5)\n",
    "print(a)"
   ]
  },
  {
   "cell_type": "code",
   "execution_count": 3,
   "metadata": {
    "colab": {
     "base_uri": "https://localhost:8080/",
     "height": 240
    },
    "id": "ux9g2ZYPO2S2",
    "outputId": "38e9fcd8-5d8d-48ed-b5a3-75701db3ffd9"
   },
   "outputs": [
    {
     "ename": "TypeError",
     "evalue": "unsupported operand type(s) for +: 'int' and 'str'",
     "output_type": "error",
     "traceback": [
      "\u001b[1;31m---------------------------------------------------------------------------\u001b[0m",
      "\u001b[1;31mTypeError\u001b[0m                                 Traceback (most recent call last)",
      "\u001b[1;32m~\\AppData\\Local\\Temp\\ipykernel_19380\\4083964435.py\u001b[0m in \u001b[0;36m<module>\u001b[1;34m\u001b[0m\n\u001b[0;32m      2\u001b[0m \u001b[0mb\u001b[0m\u001b[1;33m=\u001b[0m\u001b[1;34m'123'\u001b[0m\u001b[1;33m\u001b[0m\u001b[1;33m\u001b[0m\u001b[0m\n\u001b[0;32m      3\u001b[0m \u001b[1;33m\u001b[0m\u001b[0m\n\u001b[1;32m----> 4\u001b[1;33m \u001b[0mc\u001b[0m\u001b[1;33m=\u001b[0m\u001b[0ma\u001b[0m\u001b[1;33m+\u001b[0m\u001b[0mb\u001b[0m     \u001b[1;31m#python is not able to convert str to int Implicitly\u001b[0m\u001b[1;33m\u001b[0m\u001b[1;33m\u001b[0m\u001b[0m\n\u001b[0m\u001b[0;32m      5\u001b[0m \u001b[0mprint\u001b[0m\u001b[1;33m(\u001b[0m\u001b[0mc\u001b[0m\u001b[1;33m)\u001b[0m\u001b[1;33m\u001b[0m\u001b[1;33m\u001b[0m\u001b[0m\n\u001b[0;32m      6\u001b[0m \u001b[0mprint\u001b[0m\u001b[1;33m(\u001b[0m\u001b[1;34m\"Data type of a\"\u001b[0m\u001b[1;33m,\u001b[0m\u001b[0mtype\u001b[0m\u001b[1;33m(\u001b[0m\u001b[0ma\u001b[0m\u001b[1;33m)\u001b[0m\u001b[1;33m)\u001b[0m\u001b[1;33m\u001b[0m\u001b[1;33m\u001b[0m\u001b[0m\n",
      "\u001b[1;31mTypeError\u001b[0m: unsupported operand type(s) for +: 'int' and 'str'"
     ]
    }
   ],
   "source": [
    "a=123\n",
    "b='123'\n",
    "\n",
    "c=a+b     #python is not able to convert str to int Implicitly\n",
    "print(c)\n",
    "print(\"Data type of a\",type(a))\n",
    "print(\"Data type of b\",type(b))\n",
    "print(\"Data type of c\",type(c))"
   ]
  },
  {
   "cell_type": "markdown",
   "metadata": {
    "id": "Thq1139JPbPJ"
   },
   "source": [
    "# 2.Explicit Convertion \n",
    "is convert one data type into another data type useing maunal intervention.\n",
    "\n",
    "for this convertion we have to use built_in_ function like int(),float(),str()\n"
   ]
  },
  {
   "cell_type": "code",
   "execution_count": null,
   "metadata": {
    "colab": {
     "base_uri": "https://localhost:8080/"
    },
    "id": "VfDNVirFPa3z",
    "outputId": "934f4a3a-e3a6-4463-f2d0-cb9e702de349"
   },
   "outputs": [
    {
     "name": "stdout",
     "output_type": "stream",
     "text": [
      "10\n",
      "<class 'int'>\n",
      "10.0\n",
      "<class 'float'>\n"
     ]
    }
   ],
   "source": [
    "a=10;\n",
    "print(a);\n",
    "print(type(a))\n",
    "\n",
    "b=float(a);\n",
    "print(b)\n",
    "print(type(b))\n"
   ]
  },
  {
   "cell_type": "code",
   "execution_count": null,
   "metadata": {
    "colab": {
     "base_uri": "https://localhost:8080/"
    },
    "id": "lmsU7fjaQr_p",
    "outputId": "e46df38a-2bb4-4f1b-e6b3-2e2ef958b64f"
   },
   "outputs": [
    {
     "name": "stdout",
     "output_type": "stream",
     "text": [
      "3\n"
     ]
    }
   ],
   "source": [
    "pi=3.14\n",
    "print(int(pi))"
   ]
  },
  {
   "cell_type": "code",
   "execution_count": null,
   "metadata": {
    "colab": {
     "base_uri": "https://localhost:8080/"
    },
    "id": "cbjRcvv_RGK9",
    "outputId": "af37978b-4a7b-487a-bfd4-92e44ecd9a26"
   },
   "outputs": [
    {
     "name": "stdout",
     "output_type": "stream",
     "text": [
      "Data type of a <class 'int'>\n",
      "Data type of b <class 'str'>\n",
      "Data type of b after convertion: <class 'int'>\n",
      "246\n",
      "Data type of c <class 'int'>\n"
     ]
    }
   ],
   "source": [
    "a=123\n",
    "b='123'\n",
    "\n",
    "print(\"Data type of a\",type(a))\n",
    "print(\"Data type of b\",type(b))\n",
    "print(\"Data type of b after convertion:\",type(int(b)))\n",
    "\n",
    "c=a+int(b) \n",
    "print(c)\n",
    "\n",
    "print(\"Data type of c\",type(c))"
   ]
  },
  {
   "cell_type": "code",
   "execution_count": null,
   "metadata": {
    "colab": {
     "base_uri": "https://localhost:8080/",
     "height": 187
    },
    "id": "dfYM-oh6RoCg",
    "outputId": "4019f295-8d6b-497a-986f-a41124868fd1"
   },
   "outputs": [
    {
     "ename": "ValueError",
     "evalue": "ignored",
     "output_type": "error",
     "traceback": [
      "\u001b[0;31m---------------------------------------------------------------------------\u001b[0m",
      "\u001b[0;31mValueError\u001b[0m                                Traceback (most recent call last)",
      "\u001b[0;32m<ipython-input-10-7205bd76ca49>\u001b[0m in \u001b[0;36m<module>\u001b[0;34m\u001b[0m\n\u001b[1;32m      1\u001b[0m \u001b[0ma\u001b[0m\u001b[0;34m=\u001b[0m\u001b[0;34m'Debasish'\u001b[0m\u001b[0;34m\u001b[0m\u001b[0;34m\u001b[0m\u001b[0m\n\u001b[0;32m----> 2\u001b[0;31m \u001b[0mprint\u001b[0m\u001b[0;34m(\u001b[0m\u001b[0mint\u001b[0m\u001b[0;34m(\u001b[0m\u001b[0ma\u001b[0m\u001b[0;34m)\u001b[0m\u001b[0;34m)\u001b[0m\u001b[0;34m\u001b[0m\u001b[0;34m\u001b[0m\u001b[0m\n\u001b[0m",
      "\u001b[0;31mValueError\u001b[0m: invalid literal for int() with base 10: 'Debasish'"
     ]
    }
   ],
   "source": [
    "a='Debasish'\n",
    "print(int(a))"
   ]
  },
  {
   "cell_type": "code",
   "execution_count": null,
   "metadata": {
    "colab": {
     "base_uri": "https://localhost:8080/"
    },
    "id": "nEmX_NyiSIXs",
    "outputId": "dc7c4b4f-9d27-4241-b08d-c5ee3fc1bef4"
   },
   "outputs": [
    {
     "name": "stdout",
     "output_type": "stream",
     "text": [
      "{1, 2, 3, 4}\n"
     ]
    }
   ],
   "source": [
    "# List To set\n",
    "a=[1,2,3,4]\n",
    "print(set(a))"
   ]
  },
  {
   "cell_type": "code",
   "execution_count": null,
   "metadata": {
    "colab": {
     "base_uri": "https://localhost:8080/"
    },
    "id": "Mg3qHjGNSUEV",
    "outputId": "0f07b03f-d670-40e9-ac87-38df42419349"
   },
   "outputs": [
    {
     "name": "stdout",
     "output_type": "stream",
     "text": [
      "{1, 2, 3, 4}\n"
     ]
    }
   ],
   "source": [
    "# Tuple To set\n",
    "a=(1,2,3,4)\n",
    "print(set(a))"
   ]
  },
  {
   "cell_type": "code",
   "execution_count": null,
   "metadata": {
    "colab": {
     "base_uri": "https://localhost:8080/"
    },
    "id": "8wvy-COYSe3-",
    "outputId": "f2710f4a-ab8f-4bb5-b2e4-dc085b171ae9"
   },
   "outputs": [
    {
     "name": "stdout",
     "output_type": "stream",
     "text": [
      "(1, 2, 3, 4)\n"
     ]
    }
   ],
   "source": [
    "# List To tuple\n",
    "a=[1,2,3,4]\n",
    "print(tuple(a))"
   ]
  },
  {
   "cell_type": "code",
   "execution_count": null,
   "metadata": {
    "colab": {
     "base_uri": "https://localhost:8080/"
    },
    "id": "iKGbkxdZSlSf",
    "outputId": "50b34024-5391-4507-e7cb-112c890a1521"
   },
   "outputs": [
    {
     "name": "stdout",
     "output_type": "stream",
     "text": [
      "[1, 2, 3, 4]\n"
     ]
    }
   ],
   "source": [
    "# tuple To List\n",
    "a=(1,2,3,4)\n",
    "print(list(a))"
   ]
  },
  {
   "cell_type": "code",
   "execution_count": null,
   "metadata": {
    "colab": {
     "base_uri": "https://localhost:8080/"
    },
    "id": "VgDnGJkZStTo",
    "outputId": "425ec5bf-29d2-463e-952f-8aa36993842e"
   },
   "outputs": [
    {
     "name": "stdout",
     "output_type": "stream",
     "text": [
      "[1, 2, 3, 4]\n"
     ]
    }
   ],
   "source": [
    "# set To list\n",
    "a={1,2,3,4}\n",
    "print(list(a))"
   ]
  },
  {
   "cell_type": "code",
   "execution_count": null,
   "metadata": {
    "colab": {
     "base_uri": "https://localhost:8080/"
    },
    "id": "UJX20I9rSz5Q",
    "outputId": "e8982e98-39ae-4621-b56b-07ee22e31bb6"
   },
   "outputs": [
    {
     "name": "stdout",
     "output_type": "stream",
     "text": [
      "{1: 'value1', 2: 'value2'}\n"
     ]
    }
   ],
   "source": [
    "# Nested List to Dict\n",
    "list=[[1,'value1'],[2,'value2']];\n",
    "\n",
    "a=dict(list);\n",
    "print(a)"
   ]
  },
  {
   "cell_type": "code",
   "execution_count": null,
   "metadata": {
    "colab": {
     "base_uri": "https://localhost:8080/"
    },
    "id": "mEgeQNb8TST7",
    "outputId": "a967ac7b-c14e-4858-9489-cea533d76fdc"
   },
   "outputs": [
    {
     "name": "stdout",
     "output_type": "stream",
     "text": [
      "{1: 'value1', 2: 'value2'}\n"
     ]
    }
   ],
   "source": [
    "# Nested tuple to Dict\n",
    "tpl=[(1,'value1'),(2,'value2')];\n",
    "\n",
    "a=dict(tpl);\n",
    "print(a)"
   ]
  }
 ],
 "metadata": {
  "colab": {
   "provenance": []
  },
  "kernelspec": {
   "display_name": "Python 3 (ipykernel)",
   "language": "python",
   "name": "python3"
  },
  "language_info": {
   "codemirror_mode": {
    "name": "ipython",
    "version": 3
   },
   "file_extension": ".py",
   "mimetype": "text/x-python",
   "name": "python",
   "nbconvert_exporter": "python",
   "pygments_lexer": "ipython3",
   "version": "3.9.13"
  }
 },
 "nbformat": 4,
 "nbformat_minor": 1
}
